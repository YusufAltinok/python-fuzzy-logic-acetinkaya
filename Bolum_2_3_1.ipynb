{
  "nbformat": 4,
  "nbformat_minor": 0,
  "metadata": {
    "colab": {
      "provenance": []
    },
    "kernelspec": {
      "name": "python3",
      "display_name": "Python 3"
    },
    "language_info": {
      "name": "python"
    }
  },
  "cells": [
    {
      "cell_type": "markdown",
      "source": [
        "# *BULANIK MANTIK ve PYTHON UYGULAMALARI* - Öğr. Gör Ali ÇETİNKAYA\n",
        "\n",
        "***ISBN: *** 978-605-4827-98-5\n",
        "\n",
        "## **Bölüm 2.3.1. Örnek Python Kod Uygulaması**\n"
      ],
      "metadata": {
        "id": "wS90MwcjYebd"
      }
    },
    {
      "cell_type": "code",
      "execution_count": 1,
      "metadata": {
        "colab": {
          "base_uri": "https://localhost:8080/"
        },
        "id": "q_PwtdCYX2jv",
        "outputId": "111734f6-7be8-4672-cd83-4461bf8fd2aa"
      },
      "outputs": [
        {
          "output_type": "stream",
          "name": "stdout",
          "text": [
            "(9,)\n",
            "(2, 3) elemanlı\n",
            "int64\n",
            "int64\n",
            "[[0. 0. 0. 0.]\n",
            " [0. 0. 0. 0.]\n",
            " [0. 0. 0. 0.]]\n",
            "[[1. 1. 1.]\n",
            " [1. 1. 1.]\n",
            " [1. 1. 1.]]\n"
          ]
        }
      ],
      "source": [
        "# Örnek Kod 1 çalışması: Numpy Dizi Uygulaması!\n",
        "\n",
        "import numpy as np # numpy kütüphanesini Python dosyasına çektik.\n",
        "dizi_1 = np.array([1,2,3,4,5,6,7,8,9]) # birinci dizi ve elemanları\n",
        "dizi_2 = np.array([[1,2,9],[3,4,6]]) # ikinci dizi ve elemanları\n",
        "print(dizi_1.shape) # Birinci dizinin eleman sayısını yazdırma \n",
        "print(dizi_2.shape , \"elemanlı\") # İkinci dizinin eleman sayısını yazdırma \n",
        "print(dizi_1.dtype.name) # birinci dizinin eleman tipini yazdırma\n",
        "print(dizi_2.dtype.name) # İkinci dizinin eleman tipini yazdırma\n",
        "sifir_dizisi = np.zeros((3,4))\n",
        "print(sifir_dizisi) # 3x4 boyutlu elemanlarının 0 olan bir dizi oluşur.\n",
        "bir = np.ones((3,3))\n",
        "print(bir) # 3x3 boyutlu tüm elemanlarının “1” olan dizi oluşturulmuştur.\n"
      ]
    },
    {
      "cell_type": "markdown",
      "source": [
        "Kitabın Bulunduğu Sayfalar:\n",
        "\n",
        "https://www.pandora.com.tr/kitap/bulanik-mantik-ve-python-uygulamalari/853298\n",
        "\n",
        "https://www.kitapyurdu.com/kitap/bulanik-mantik-ve-python-uygulamalari/644153.html \n",
        "\n",
        "https://www.dr.com.tr/Kitap/Bulanik-Mantik-ve-Python-Uygulamalari/Egitim-Basvuru/Bilgisayar/urunno=0002035935001\n",
        "\n",
        "https://kddb.gelisim.edu.tr/tr/idari-duyuru-igu-yayinlarindan-106-kitap-bulanik-mantik-ve-python-uygulamalari \n",
        "\n",
        "\n"
      ],
      "metadata": {
        "id": "hYQtlnhFZA2p"
      }
    }
  ]
}